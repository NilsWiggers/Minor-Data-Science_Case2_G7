{
 "cells": [
  {
   "cell_type": "code",
   "execution_count": 261,
   "id": "d9d1126d",
   "metadata": {},
   "outputs": [],
   "source": [
    "import pandas as pd\n"
   ]
  },
  {
   "cell_type": "code",
   "execution_count": 262,
   "id": "9c4231d7",
   "metadata": {},
   "outputs": [
    {
     "name": "stderr",
     "output_type": "stream",
     "text": [
      "2025-09-25 10:16:19.639 Thread 'MainThread': missing ScriptRunContext! This warning can be ignored when running in bare mode.\n",
      "2025-09-25 10:16:19.641 Thread 'MainThread': missing ScriptRunContext! This warning can be ignored when running in bare mode.\n",
      "2025-09-25 10:16:19.643 Thread 'MainThread': missing ScriptRunContext! This warning can be ignored when running in bare mode.\n",
      "2025-09-25 10:16:19.644 Thread 'MainThread': missing ScriptRunContext! This warning can be ignored when running in bare mode.\n",
      "2025-09-25 10:16:19.646 Thread 'MainThread': missing ScriptRunContext! This warning can be ignored when running in bare mode.\n",
      "2025-09-25 10:16:19.646 Thread 'MainThread': missing ScriptRunContext! This warning can be ignored when running in bare mode.\n",
      "2025-09-25 10:16:19.647 Thread 'MainThread': missing ScriptRunContext! This warning can be ignored when running in bare mode.\n",
      "2025-09-25 10:16:19.649 Thread 'MainThread': missing ScriptRunContext! This warning can be ignored when running in bare mode.\n",
      "2025-09-25 10:16:19.650 Thread 'MainThread': missing ScriptRunContext! This warning can be ignored when running in bare mode.\n",
      "2025-09-25 10:16:19.651 Thread 'MainThread': missing ScriptRunContext! This warning can be ignored when running in bare mode.\n",
      "2025-09-25 10:16:19.652 Thread 'MainThread': missing ScriptRunContext! This warning can be ignored when running in bare mode.\n",
      "2025-09-25 10:16:19.653 Thread 'MainThread': missing ScriptRunContext! This warning can be ignored when running in bare mode.\n",
      "2025-09-25 10:16:19.654 Thread 'MainThread': missing ScriptRunContext! This warning can be ignored when running in bare mode.\n",
      "2025-09-25 10:16:19.655 Thread 'MainThread': missing ScriptRunContext! This warning can be ignored when running in bare mode.\n",
      "2025-09-25 10:16:19.656 Thread 'MainThread': missing ScriptRunContext! This warning can be ignored when running in bare mode.\n",
      "2025-09-25 10:16:19.658 Thread 'MainThread': missing ScriptRunContext! This warning can be ignored when running in bare mode.\n",
      "2025-09-25 10:16:19.660 Thread 'MainThread': missing ScriptRunContext! This warning can be ignored when running in bare mode.\n",
      "2025-09-25 10:16:19.662 Thread 'MainThread': missing ScriptRunContext! This warning can be ignored when running in bare mode.\n",
      "2025-09-25 10:16:19.662 Thread 'MainThread': missing ScriptRunContext! This warning can be ignored when running in bare mode.\n",
      "2025-09-25 10:16:19.664 Thread 'MainThread': missing ScriptRunContext! This warning can be ignored when running in bare mode.\n",
      "2025-09-25 10:16:19.665 Thread 'MainThread': missing ScriptRunContext! This warning can be ignored when running in bare mode.\n",
      "2025-09-25 10:16:19.667 Thread 'MainThread': missing ScriptRunContext! This warning can be ignored when running in bare mode.\n",
      "2025-09-25 10:16:19.678 Thread 'MainThread': missing ScriptRunContext! This warning can be ignored when running in bare mode.\n",
      "2025-09-25 10:16:19.680 Thread 'MainThread': missing ScriptRunContext! This warning can be ignored when running in bare mode.\n",
      "2025-09-25 10:16:19.682 Thread 'MainThread': missing ScriptRunContext! This warning can be ignored when running in bare mode.\n",
      "2025-09-25 10:16:19.682 Thread 'MainThread': missing ScriptRunContext! This warning can be ignored when running in bare mode.\n",
      "2025-09-25 10:16:19.683 Thread 'MainThread': missing ScriptRunContext! This warning can be ignored when running in bare mode.\n",
      "2025-09-25 10:16:19.684 Thread 'MainThread': missing ScriptRunContext! This warning can be ignored when running in bare mode.\n"
     ]
    },
    {
     "name": "stdout",
     "output_type": "stream",
     "text": [
      "Coordinates: 52.36600112915039°N 4.901000022888184°E\n",
      "Elevation: 11.0 m asl\n",
      "Timezone: b'Europe/Berlin'b'GMT+2'\n",
      "Timezone difference to GMT+0: 7200s\n",
      "\n",
      "Hourly data\n",
      "                          date  temperature_2m  relative_humidity_2m  \\\n",
      "0   2025-09-24 22:00:00+00:00       13.767500                  61.0   \n",
      "1   2025-09-24 23:00:00+00:00       13.367499                  61.0   \n",
      "2   2025-09-25 00:00:00+00:00       12.867499                  59.0   \n",
      "3   2025-09-25 01:00:00+00:00       12.817500                  60.0   \n",
      "4   2025-09-25 02:00:00+00:00       12.167500                  63.0   \n",
      "..                        ...             ...                   ...   \n",
      "163 2025-10-01 17:00:00+00:00       12.400000                  61.0   \n",
      "164 2025-10-01 18:00:00+00:00       11.550000                  64.0   \n",
      "165 2025-10-01 19:00:00+00:00       10.800000                  66.0   \n",
      "166 2025-10-01 20:00:00+00:00       10.150000                  67.0   \n",
      "167 2025-10-01 21:00:00+00:00        9.500000                  69.0   \n",
      "\n",
      "     dew_point_2m  precipitation  \n",
      "0        6.376332            0.0  \n",
      "1        5.999007            0.0  \n",
      "2        5.047394            0.0  \n",
      "3        5.242036            0.0  \n",
      "4        5.330556            0.0  \n",
      "..            ...            ...  \n",
      "163      5.086217            0.0  \n",
      "164      4.971592            0.0  \n",
      "165      4.699910            0.0  \n",
      "166      4.295310            0.0  \n",
      "167      4.093657            0.0  \n",
      "\n",
      "[168 rows x 5 columns]\n"
     ]
    }
   ],
   "source": [
    "# ------------------ #\n",
    "# Importing Packages #\n",
    "# ------------------ #\n",
    "import openmeteo_requests\n",
    "import pandas as pd\n",
    "import plotly.express as px\n",
    "import seaborn as sns\n",
    "import requests_cache\n",
    "from retry_requests import retry\n",
    "import streamlit as st\n",
    "import pandas as pd\n",
    "import matplotlib.pyplot as plt\n",
    "from datetime import datetime, date, timedelta\n",
    "\n",
    "\n",
    "\n",
    "# --------------- #\n",
    "# Open-meteo API  #\n",
    "# --------------- #\n",
    "\n",
    "\n",
    "# Setup the Open-Meteo API client with cache and retry on error\n",
    "cache_session = requests_cache.CachedSession('.cache', expire_after = 3600)\n",
    "retry_session = retry(cache_session, retries = 5, backoff_factor = 0.2)\n",
    "openmeteo = openmeteo_requests.Client(session = retry_session)\n",
    "\n",
    "# Make sure all required weather variables are listed here\n",
    "# The order of variables in hourly or daily is important to assign them correctly below\n",
    "url = \"https://api.open-meteo.com/v1/forecast\"\n",
    "params = {\n",
    "\t\"latitude\": 52.37,\n",
    "\t\t\"longitude\": 4.89,\n",
    "\t\"hourly\": [\"temperature_2m\", \"relative_humidity_2m\", \"dew_point_2m\", \"precipitation\"],\n",
    "\t\"models\": \"knmi_seamless\",\n",
    "\t\"timezone\": \"Europe/Berlin\",\n",
    "}\n",
    "responses = openmeteo.weather_api(url, params=params)\n",
    "\n",
    "# Process first location. Add a for-loop for multiple locations or weather models\n",
    "response = responses[0]\n",
    "print(f\"Coordinates: {response.Latitude()}°N {response.Longitude()}°E\")\n",
    "print(f\"Elevation: {response.Elevation()} m asl\")\n",
    "print(f\"Timezone: {response.Timezone()}{response.TimezoneAbbreviation()}\")\n",
    "print(f\"Timezone difference to GMT+0: {response.UtcOffsetSeconds()}s\")\n",
    "\n",
    "# Process hourly data. The order of variables needs to be the same as requested.\n",
    "hourly = response.Hourly()\n",
    "hourly_temperature_2m = hourly.Variables(0).ValuesAsNumpy()\n",
    "hourly_relative_humidity_2m = hourly.Variables(1).ValuesAsNumpy()\n",
    "hourly_dew_point_2m = hourly.Variables(2).ValuesAsNumpy()\n",
    "hourly_precipitation = hourly.Variables(3).ValuesAsNumpy()\n",
    "\n",
    "hourly_data = {\"date\": pd.date_range(\n",
    "\tstart = pd.to_datetime(hourly.Time(), unit = \"s\", utc = True),\n",
    "\tend = pd.to_datetime(hourly.TimeEnd(), unit = \"s\", utc = True),\n",
    "\tfreq = pd.Timedelta(seconds = hourly.Interval()),\n",
    "\tinclusive = \"left\"\n",
    ")}\n",
    "\n",
    "hourly_data[\"temperature_2m\"] = hourly_temperature_2m\n",
    "hourly_data[\"relative_humidity_2m\"] = hourly_relative_humidity_2m\n",
    "hourly_data[\"dew_point_2m\"] = hourly_dew_point_2m\n",
    "hourly_data[\"precipitation\"] = hourly_precipitation\n",
    "\n",
    "hourly_dataframe = pd.DataFrame(data = hourly_data)\n",
    "print(\"\\nHourly data\\n\", hourly_dataframe)\n",
    "\n",
    "# ---------------------------------------- End\n",
    "\n",
    "# --------------- #\n",
    "#     Figures     #\n",
    "# --------------- #\n",
    "\n",
    "#Figure code here\n",
    "\n",
    "\n",
    "\n",
    "\n",
    "\n",
    "# ---------------------------------------- End\n",
    "\n",
    "# --------------- #\n",
    "#    Streamlit    #\n",
    "# --------------- #\n",
    "\n",
    "st.title(\"KNMI Weerdata\")\n",
    "# Sidebar inputs\n",
    "st.sidebar.header(\"Location & Settings\")\n",
    "latitude = st.sidebar.number_input(\"Latitude\", value=52.52, format=\"%.4f\")\n",
    "longitude = st.sidebar.number_input(\"Longitude\", value=13.41, format=\"%.4f\")\n",
    "timezone = st.sidebar.text_input(\"Timezone\", \"Europe/Berlin\") \n",
    "\n",
    "st.dataframe(hourly_dataframe)\n",
    "\n",
    "st.write(\"This is a test\")\n",
    "st.write(\"GODOOODOAOGAGOA\")\n",
    "\n",
    "# ---------------------------------------- End"
   ]
  },
  {
   "cell_type": "code",
   "execution_count": 263,
   "id": "d237c079",
   "metadata": {},
   "outputs": [
    {
     "name": "stdout",
     "output_type": "stream",
     "text": [
      "vandaag: 09-25\n",
      "            Neerslag  Year Day_Month\n",
      "Datum                               \n",
      "1950-01-01       0.0  1950     01-01\n",
      "1950-01-02       0.0  1950     01-02\n",
      "1950-01-03      16.0  1950     01-03\n",
      "1950-01-04      71.0  1950     01-04\n",
      "1950-01-05       0.0  1950     01-05\n",
      "1950-01-06      41.0  1950     01-06\n",
      "HIER             Neerslag  Year Day_Month\n",
      "Datum                               \n",
      "1950-09-25     120.0  1950     09-25\n",
      "1951-09-25       0.0  1951     09-25\n",
      "1952-09-25     137.0  1952     09-25\n",
      "1953-09-25      47.0  1953     09-25\n",
      "1954-09-25      75.0  1954     09-25\n",
      "\n",
      "Neerslag\n",
      "     Day_Month  Expected_Rain\n",
      "0       09-24            0.0\n",
      "1       09-24            0.0\n",
      "2       09-25            0.0\n",
      "3       09-25            0.0\n",
      "4       09-25            0.0\n",
      "..        ...            ...\n",
      "163     10-01            0.0\n",
      "164     10-01            0.0\n",
      "165     10-01            0.0\n",
      "166     10-01            0.0\n",
      "167     10-01            0.0\n",
      "\n",
      "[168 rows x 2 columns]\n"
     ]
    }
   ],
   "source": [
    "\n",
    "# Convert 'vandaag' from yyyy-mm-dd to mm-dd format\n",
    "vandaag_mmdd = datetime.now().strftime(\"%m-%d\")\n",
    "jaar = vandaag.year\n",
    "print(\"vandaag: \"+vandaag_mmdd)\n",
    "\n",
    "\n",
    "#local rainfall data \"schellingwoude\"\n",
    "neerslag_df = pd.read_csv(\"CSV_SCHELLINGWOUDE.csv\", sep=\";\")\n",
    "neerslag_df[\"Datum\"] = pd.to_datetime(neerslag_df[\"Datum\"], format = \"%Y%m%d\")\n",
    "neerslag_df = neerslag_df.rename(columns={\"Column2\":\"Neerslag\"})\n",
    "neerslag_df.set_index(\"Datum\", inplace=True)\n",
    "neerslag_df = neerslag_df[neerslag_df.index >= \"1950-01-01\"]\n",
    "neerslag_df[\"Year\"] = neerslag_df.index.year\n",
    "neerslag_df[\"Day_Month\"] = neerslag_df.index.strftime(\"%m-%d\")\n",
    "print(neerslag_df.head(6))\n",
    "\n",
    "\n",
    "hourly_dataframe[\"Day_Month\"] = hourly_dataframe[\"date\"].dt.strftime(\"%m-%d\")\n",
    "#calculating expected rain from hourly data (API)\n",
    "neerslag_huidig = pd.DataFrame()\n",
    "neerslag_huidig[\"Day_Month\"] = hourly_dataframe[\"date\"].dt.strftime(\"%m-%d\")\n",
    "neerslag_huidig[\"Expected_Rain\"] = hourly_dataframe.groupby(\"Day_Month\")[\"precipitation\"].sum()\n",
    "neerslag_huidig[\"Expected_Rain\"] = neerslag_huidig[\"Expected_Rain\"].fillna(0)\n",
    "\n",
    "if vandaag_mmdd in neerslag_huidig[\"Day_Month\"].values:\n",
    "    expected_rain_today = neerslag_huidig.loc[neerslag_huidig[\"Day_Month\"] == vandaag_mmdd, \"Expected_Rain\"].values[0]\n",
    "\n",
    "\n",
    "if vandaag_mmdd in neerslag_df[\"Day_Month\"].values:\n",
    "    historical_rain_today = neerslag_df.loc[neerslag_df[\"Day_Month\"] == vandaag_mmdd].copy()\n",
    "    historical_rain_today[\"Year\"] = historical_rain_today.index.year\n",
    "\n",
    "    \n",
    "df_expected_rain = pd.DataFrame({\n",
    "    \"Day_Month\": [vandaag_mmdd],\n",
    "    \"Expected_Rain\": [expected_rain_today],\n",
    "    \"Jaar\": [jaar]\n",
    "})\n",
    "\n",
    "\n",
    "print(\"HIER\", historical_rain_today.head())\n",
    "\n",
    "\n",
    "# Display the processed hourly data\n",
    "print(\"\\nNeerslag\\n\", neerslag_huidig) "
   ]
  },
  {
   "cell_type": "code",
   "execution_count": 393,
   "id": "047c59bc",
   "metadata": {},
   "outputs": [
    {
     "data": {
      "application/vnd.plotly.v1+json": {
       "config": {
        "plotlyServerURL": "https://plot.ly"
       },
       "data": [
        {
         "marker": {
          "color": [
           120,
           0,
           137,
           47,
           75,
           0,
           0,
           6,
           2,
           0,
           0,
           0,
           0,
           51,
           0,
           0,
           0,
           0,
           2,
           0,
           0,
           91,
           0,
           14,
           58,
           4,
           1,
           0,
           1,
           0,
           18,
           4,
           22,
           3,
           59,
           0,
           0,
           79,
           42,
           1,
           157,
           41,
           2,
           5,
           5,
           154,
           0,
           0,
           2,
           73,
           9,
           0,
           14,
           0,
           49,
           0,
           1,
           41,
           0,
           0,
           1,
           0,
           131,
           0,
           135,
           71,
           0,
           0,
           18,
           58,
           0,
           2,
           0,
           18
          ],
          "colorbar": {
           "len": 0.8,
           "title": {
            "text": "Neerslag (mm)"
           },
           "x": 1.02,
           "y": 0.2
          },
          "colorscale": [
           [
            0,
            "rgb(247,251,255)"
           ],
           [
            0.125,
            "rgb(222,235,247)"
           ],
           [
            0.25,
            "rgb(198,219,239)"
           ],
           [
            0.375,
            "rgb(158,202,225)"
           ],
           [
            0.5,
            "rgb(107,174,214)"
           ],
           [
            0.625,
            "rgb(66,146,198)"
           ],
           [
            0.75,
            "rgb(33,113,181)"
           ],
           [
            0.875,
            "rgb(8,81,156)"
           ],
           [
            1,
            "rgb(8,48,107)"
           ]
          ],
          "showscale": true
         },
         "name": "Historisch",
         "type": "bar",
         "x": [
          1950,
          1951,
          1952,
          1953,
          1954,
          1955,
          1956,
          1957,
          1958,
          1959,
          1960,
          1961,
          1962,
          1963,
          1964,
          1965,
          1966,
          1967,
          1968,
          1969,
          1970,
          1971,
          1972,
          1973,
          1974,
          1975,
          1976,
          1977,
          1978,
          1979,
          1980,
          1981,
          1982,
          1983,
          1984,
          1985,
          1986,
          1987,
          1988,
          1989,
          1990,
          1991,
          1992,
          1993,
          1994,
          1995,
          1996,
          1997,
          1998,
          1999,
          2000,
          2001,
          2002,
          2003,
          2004,
          2005,
          2006,
          2007,
          2008,
          2009,
          2010,
          2011,
          2012,
          2013,
          2014,
          2015,
          2016,
          2017,
          2018,
          2019,
          2021,
          2022,
          2023,
          2024
         ],
         "xaxis": "x",
         "y": [
          120,
          0,
          137,
          47,
          75,
          0,
          0,
          6,
          2,
          0,
          0,
          0,
          0,
          51,
          0,
          0,
          0,
          0,
          2,
          0,
          0,
          91,
          0,
          14,
          58,
          4,
          1,
          0,
          1,
          0,
          18,
          4,
          22,
          3,
          59,
          0,
          0,
          79,
          42,
          1,
          157,
          41,
          2,
          5,
          5,
          154,
          0,
          0,
          2,
          73,
          9,
          0,
          14,
          0,
          49,
          0,
          1,
          41,
          0,
          0,
          1,
          0,
          131,
          0,
          135,
          71,
          0,
          0,
          18,
          58,
          0,
          2,
          0,
          18
         ],
         "yaxis": "y"
        },
        {
         "marker": {
          "color": "salmon"
         },
         "name": "Voorspeld",
         "showlegend": true,
         "type": "bar",
         "x": [
          2025
         ],
         "xaxis": "x2",
         "y": [
          0
         ],
         "yaxis": "y2"
        },
        {
         "line": {
          "color": "black",
          "dash": "dot",
          "shape": "spline",
          "width": 1
         },
         "mode": "lines",
         "name": "Gemiddelde",
         "type": "scatter",
         "x": [
          1950,
          1951,
          1952,
          1953,
          1954,
          1955,
          1956,
          1957,
          1958,
          1959,
          1960,
          1961,
          1962,
          1963,
          1964,
          1965,
          1966,
          1967,
          1968,
          1969,
          1970,
          1971,
          1972,
          1973,
          1974,
          1975,
          1976,
          1977,
          1978,
          1979,
          1980,
          1981,
          1982,
          1983,
          1984,
          1985,
          1986,
          1987,
          1988,
          1989,
          1990,
          1991,
          1992,
          1993,
          1994,
          1995,
          1996,
          1997,
          1998,
          1999,
          2000,
          2001,
          2002,
          2003,
          2004,
          2005,
          2006,
          2007,
          2008,
          2009,
          2010,
          2011,
          2012,
          2013,
          2014,
          2015,
          2016,
          2017,
          2018,
          2019,
          2021,
          2022,
          2023,
          2024
         ],
         "y": [
          120,
          60,
          85.66666666666667,
          76,
          75.8,
          63.166666666666664,
          54.142857142857146,
          48.125,
          43,
          38.7,
          35.18181818181818,
          32.25,
          29.76923076923077,
          31.285714285714285,
          29.2,
          27.375,
          25.764705882352942,
          24.333333333333332,
          23.157894736842106,
          22,
          20.952380952380953,
          24.136363636363637,
          23.08695652173913,
          22.708333333333332,
          24.12,
          23.346153846153847,
          22.51851851851852,
          21.714285714285715,
          21,
          20.3,
          20.225806451612904,
          19.71875,
          19.78787878787879,
          19.294117647058822,
          20.428571428571427,
          19.86111111111111,
          19.324324324324323,
          20.894736842105264,
          21.435897435897434,
          20.925,
          24.24390243902439,
          24.642857142857142,
          24.11627906976744,
          23.681818181818183,
          23.266666666666666,
          26.108695652173914,
          25.5531914893617,
          25.020833333333332,
          24.551020408163264,
          25.52,
          25.19607843137255,
          24.71153846153846,
          24.50943396226415,
          24.055555555555557,
          24.509090909090908,
          24.071428571428573,
          23.666666666666668,
          23.96551724137931,
          23.559322033898304,
          23.166666666666668,
          22.80327868852459,
          22.43548387096774,
          24.158730158730158,
          23.78125,
          25.49230769230769,
          26.181818181818183,
          25.791044776119403,
          25.41176470588235,
          25.304347826086957,
          25.771428571428572,
          25.408450704225352,
          25.083333333333332,
          24.73972602739726,
          24.64864864864865
         ]
        }
       ],
       "layout": {
        "annotations": [
         {
          "font": {
           "size": 16
          },
          "showarrow": false,
          "text": "Historische Neerslag",
          "x": 0.375,
          "xanchor": "center",
          "xref": "paper",
          "y": 1,
          "yanchor": "bottom",
          "yref": "paper"
         },
         {
          "font": {
           "size": 16
          },
          "showarrow": false,
          "text": "Voorspelde Neerslag",
          "x": 0.925,
          "xanchor": "center",
          "xref": "paper",
          "y": 1,
          "yanchor": "bottom",
          "yref": "paper"
         },
         {
          "showarrow": false,
          "text": "Gemiddelde",
          "x": 1,
          "xanchor": "right",
          "xref": "x2 domain",
          "y": 24.64864864864865,
          "yanchor": "bottom",
          "yref": "y2"
         },
         {
          "font": {
           "size": 25
          },
          "showarrow": false,
          "text": "Vandaag: 09-25",
          "x": 0,
          "xref": "paper",
          "y": 1.3,
          "yref": "paper"
         }
        ],
        "legend": {
         "title": {
          "text": "Legenda"
         }
        },
        "shapes": [
         {
          "line": {
           "color": "black",
           "dash": "dot",
           "width": 1
          },
          "type": "line",
          "x0": 0,
          "x1": 1,
          "xref": "x2 domain",
          "y0": 24.64864864864865,
          "y1": 24.64864864864865,
          "yref": "y2"
         }
        ],
        "template": {
         "data": {
          "candlestick": [
           {
            "decreasing": {
             "line": {
              "color": "#000033"
             }
            },
            "increasing": {
             "line": {
              "color": "#000032"
             }
            },
            "type": "candlestick"
           }
          ],
          "contour": [
           {
            "colorscale": [
             [
              0,
              "#000011"
             ],
             [
              0.1111111111111111,
              "#000012"
             ],
             [
              0.2222222222222222,
              "#000013"
             ],
             [
              0.3333333333333333,
              "#000014"
             ],
             [
              0.4444444444444444,
              "#000015"
             ],
             [
              0.5555555555555556,
              "#000016"
             ],
             [
              0.6666666666666666,
              "#000017"
             ],
             [
              0.7777777777777778,
              "#000018"
             ],
             [
              0.8888888888888888,
              "#000019"
             ],
             [
              1,
              "#000020"
             ]
            ],
            "type": "contour"
           }
          ],
          "contourcarpet": [
           {
            "colorscale": [
             [
              0,
              "#000011"
             ],
             [
              0.1111111111111111,
              "#000012"
             ],
             [
              0.2222222222222222,
              "#000013"
             ],
             [
              0.3333333333333333,
              "#000014"
             ],
             [
              0.4444444444444444,
              "#000015"
             ],
             [
              0.5555555555555556,
              "#000016"
             ],
             [
              0.6666666666666666,
              "#000017"
             ],
             [
              0.7777777777777778,
              "#000018"
             ],
             [
              0.8888888888888888,
              "#000019"
             ],
             [
              1,
              "#000020"
             ]
            ],
            "type": "contourcarpet"
           }
          ],
          "heatmap": [
           {
            "colorscale": [
             [
              0,
              "#000011"
             ],
             [
              0.1111111111111111,
              "#000012"
             ],
             [
              0.2222222222222222,
              "#000013"
             ],
             [
              0.3333333333333333,
              "#000014"
             ],
             [
              0.4444444444444444,
              "#000015"
             ],
             [
              0.5555555555555556,
              "#000016"
             ],
             [
              0.6666666666666666,
              "#000017"
             ],
             [
              0.7777777777777778,
              "#000018"
             ],
             [
              0.8888888888888888,
              "#000019"
             ],
             [
              1,
              "#000020"
             ]
            ],
            "type": "heatmap"
           }
          ],
          "histogram2d": [
           {
            "colorscale": [
             [
              0,
              "#000011"
             ],
             [
              0.1111111111111111,
              "#000012"
             ],
             [
              0.2222222222222222,
              "#000013"
             ],
             [
              0.3333333333333333,
              "#000014"
             ],
             [
              0.4444444444444444,
              "#000015"
             ],
             [
              0.5555555555555556,
              "#000016"
             ],
             [
              0.6666666666666666,
              "#000017"
             ],
             [
              0.7777777777777778,
              "#000018"
             ],
             [
              0.8888888888888888,
              "#000019"
             ],
             [
              1,
              "#000020"
             ]
            ],
            "type": "histogram2d"
           }
          ],
          "icicle": [
           {
            "textfont": {
             "color": "white"
            },
            "type": "icicle"
           }
          ],
          "sankey": [
           {
            "textfont": {
             "color": "#000036"
            },
            "type": "sankey"
           }
          ],
          "scatter": [
           {
            "marker": {
             "line": {
              "width": 0
             }
            },
            "type": "scatter"
           }
          ],
          "table": [
           {
            "cells": {
             "fill": {
              "color": "#000038"
             },
             "font": {
              "color": "#000037"
             },
             "line": {
              "color": "#000039"
             }
            },
            "header": {
             "fill": {
              "color": "#000040"
             },
             "font": {
              "color": "#000036"
             },
             "line": {
              "color": "#000039"
             }
            },
            "type": "table"
           }
          ],
          "waterfall": [
           {
            "connector": {
             "line": {
              "color": "#000036",
              "width": 2
             }
            },
            "decreasing": {
             "marker": {
              "color": "#000033"
             }
            },
            "increasing": {
             "marker": {
              "color": "#000032"
             }
            },
            "totals": {
             "marker": {
              "color": "#000034"
             }
            },
            "type": "waterfall"
           }
          ]
         },
         "layout": {
          "coloraxis": {
           "colorscale": [
            [
             0,
             "#000011"
            ],
            [
             0.1111111111111111,
             "#000012"
            ],
            [
             0.2222222222222222,
             "#000013"
            ],
            [
             0.3333333333333333,
             "#000014"
            ],
            [
             0.4444444444444444,
             "#000015"
            ],
            [
             0.5555555555555556,
             "#000016"
            ],
            [
             0.6666666666666666,
             "#000017"
            ],
            [
             0.7777777777777778,
             "#000018"
            ],
            [
             0.8888888888888888,
             "#000019"
            ],
            [
             1,
             "#000020"
            ]
           ]
          },
          "colorscale": {
           "diverging": [
            [
             0,
             "#000021"
            ],
            [
             0.1,
             "#000022"
            ],
            [
             0.2,
             "#000023"
            ],
            [
             0.3,
             "#000024"
            ],
            [
             0.4,
             "#000025"
            ],
            [
             0.5,
             "#000026"
            ],
            [
             0.6,
             "#000027"
            ],
            [
             0.7,
             "#000028"
            ],
            [
             0.8,
             "#000029"
            ],
            [
             0.9,
             "#000030"
            ],
            [
             1,
             "#000031"
            ]
           ],
           "sequential": [
            [
             0,
             "#000011"
            ],
            [
             0.1111111111111111,
             "#000012"
            ],
            [
             0.2222222222222222,
             "#000013"
            ],
            [
             0.3333333333333333,
             "#000014"
            ],
            [
             0.4444444444444444,
             "#000015"
            ],
            [
             0.5555555555555556,
             "#000016"
            ],
            [
             0.6666666666666666,
             "#000017"
            ],
            [
             0.7777777777777778,
             "#000018"
            ],
            [
             0.8888888888888888,
             "#000019"
            ],
            [
             1,
             "#000020"
            ]
           ],
           "sequentialminus": [
            [
             0,
             "#000011"
            ],
            [
             0.1111111111111111,
             "#000012"
            ],
            [
             0.2222222222222222,
             "#000013"
            ],
            [
             0.3333333333333333,
             "#000014"
            ],
            [
             0.4444444444444444,
             "#000015"
            ],
            [
             0.5555555555555556,
             "#000016"
            ],
            [
             0.6666666666666666,
             "#000017"
            ],
            [
             0.7777777777777778,
             "#000018"
            ],
            [
             0.8888888888888888,
             "#000019"
            ],
            [
             1,
             "#000020"
            ]
           ]
          },
          "colorway": [
           "#000001",
           "#000002",
           "#000003",
           "#000004",
           "#000005",
           "#000006",
           "#000007",
           "#000008",
           "#000009",
           "#000010"
          ]
         }
        },
        "xaxis": {
         "anchor": "y",
         "domain": [
          0,
          0.75
         ],
         "tickangle": 90,
         "tickfont": {
          "color": "black"
         },
         "ticktext": [
          "1950",
          "1952",
          "1953",
          "1954",
          "1963",
          "1971",
          "1973",
          "1974",
          "1980",
          "1982",
          "1984",
          "1987",
          "1988",
          "1990",
          "1991",
          "1995",
          "1999",
          "2002",
          "2004",
          "2007",
          "2012",
          "2014",
          "2015",
          "2018",
          "2019",
          "2024"
         ],
         "tickvals": [
          1950,
          1952,
          1953,
          1954,
          1963,
          1971,
          1973,
          1974,
          1980,
          1982,
          1984,
          1987,
          1988,
          1990,
          1991,
          1995,
          1999,
          2002,
          2004,
          2007,
          2012,
          2014,
          2015,
          2018,
          2019,
          2024,
          2025
         ]
        },
        "xaxis2": {
         "anchor": "y2",
         "domain": [
          0.85,
          1
         ],
         "tickangle": 90,
         "ticktext": [
          "1950",
          "1952",
          "1953",
          "1954",
          "1963",
          "1971",
          "1973",
          "1974",
          "1980",
          "1982",
          "1984",
          "1987",
          "1988",
          "1990",
          "1991",
          "1995",
          "1999",
          "2002",
          "2004",
          "2007",
          "2012",
          "2014",
          "2015",
          "2018",
          "2019",
          "2024"
         ],
         "tickvals": [
          1950,
          1952,
          1953,
          1954,
          1963,
          1971,
          1973,
          1974,
          1980,
          1982,
          1984,
          1987,
          1988,
          1990,
          1991,
          1995,
          1999,
          2002,
          2004,
          2007,
          2012,
          2014,
          2015,
          2018,
          2019,
          2024,
          2025
         ]
        },
        "yaxis": {
         "anchor": "x",
         "domain": [
          0,
          1
         ],
         "title": {
          "text": "Neerslag (mm)"
         }
        },
        "yaxis2": {
         "anchor": "x2",
         "domain": [
          0,
          1
         ],
         "matches": "y",
         "showticklabels": false
        }
       }
      }
     },
     "metadata": {},
     "output_type": "display_data"
    }
   ],
   "source": [
    "import plotly.express as px\n",
    "import plotly.graph_objects as go\n",
    "from plotly.subplots import make_subplots\n",
    "\n",
    "\n",
    "# Historical bars\n",
    "fig = make_subplots(rows=1, cols=2,\n",
    "shared_xaxes=True, \n",
    "shared_yaxes=True, \n",
    "column_widths=[1, 0.2],\n",
    "subplot_titles=(\"Historische Neerslag\", \"Voorspelde Neerslag\")\n",
    ")\n",
    "\n",
    "fig.add_trace(\n",
    "    go.Bar(\n",
    "        x=historical_rain_today[\"Year\"],\n",
    "        y=historical_rain_today[\"Neerslag\"],\n",
    "        name=\"Historisch\",\n",
    "        marker=dict(\n",
    "            color=historical_rain_today[\"Neerslag\"],  \n",
    "            colorscale=px.colors.sequential.Blues,\n",
    "            colorbar=dict(title=\"Neerslag\"),\n",
    "            showscale=True\n",
    "        )\n",
    "    ), row=1, col=1\n",
    ")\n",
    "\n",
    "# Predicted rainfall (salmon bar)\n",
    "fig.add_trace(\n",
    "    go.Bar(\n",
    "        x=df_expected_rain[\"Jaar\"],\n",
    "        y=df_expected_rain[\"Expected_Rain\"],\n",
    "        name=\"Voorspeld\",\n",
    "        marker=dict(\n",
    "            color=\"salmon\"\n",
    "        ),\n",
    "        showlegend=True\n",
    "    ), row=1, col=2\n",
    ")\n",
    "\n",
    "#trend line rainfall\n",
    "fig.add_trace(    \n",
    "    go.Scatter(\n",
    "        x=historical_rain_today[\"Year\"],\n",
    "        y=historical_rain_today[\"Neerslag\"].expanding().mean(),\n",
    "        mode=\"lines\",\n",
    "        name=\"Gemiddelde\",\n",
    "        line=dict(color=\"black\", width=1, dash = \"dot\", shape=\"spline\")\n",
    "    )\n",
    ")\n",
    "\n",
    "fig.add_hline(\n",
    "    y = historical_rain_today[\"Neerslag\"].mean(),\n",
    "    line=dict(color=\"black\", width=1, dash = \"dot\"),\n",
    "    annotation_text = \"Gemiddelde\",\n",
    "    annotation_position = \"top right\",\n",
    "    row=1, col=2\n",
    ")\n",
    "# Highlight tick label for the current year\n",
    "fig.update_layout(\n",
    "    xaxis=dict(\n",
    "        tickangle=90,   \n",
    "        tickfont=dict(color=\"black\"),  # default color\n",
    "    ),\n",
    "    yaxis_title=\"Neerslag (mm)\",\n",
    "    legend_title=\"Legenda\",\n",
    "   \n",
    ")\n",
    "\n",
    "fig.add_annotation(\n",
    "    x=0.00,                   # x-position (can be axis value or fraction with xref)\n",
    "    y=1.3,    \n",
    "    xref = \"paper\",\n",
    "    yref = \"paper\",               # y-position (can be axis value or fraction with yref)\n",
    "    text=\"Vandaag: \" + vandaag_mmdd, # Text to display\n",
    "    showarrow=False,         # Show arrow pointing to the point\n",
    "    font=dict(size=25)       # Font size\n",
    ")\n",
    "# Make the tick label for the prediction year red\n",
    "fig.update_xaxes(\n",
    "    tickvals=historical_rain_today.loc[\n",
    "        historical_rain_today[\"Neerslag\"] > 10, \"Year\"\n",
    "    ].unique().tolist() + [df_expected_rain[\"Jaar\"].iloc[0]],\n",
    "    ticktext=historical_rain_today.loc[\n",
    "        historical_rain_today[\"Neerslag\"] > 10, \"Year\"\n",
    "    ].astype(str).tolist(),\n",
    "    tickangle=90  # optional: rotate for readability\n",
    ")\n",
    "\n",
    "\n",
    "#moving legend outside plot area\n",
    "fig.update_traces(\n",
    "    selector=dict(name=\"Historisch\"),\n",
    "    marker_color=historical_rain_today[\"Neerslag\"],  # numeric\n",
    "    marker_colorscale=px.colors.sequential.Blues,\n",
    "    marker_colorbar=dict(\n",
    "        title=\"Neerslag (mm)\",\n",
    "        x=1.02,          # horizontal position (right of plot)\n",
    "        y=0.2,          # vertical position (center)\n",
    "        len=0.8,        # length of the colorbar\n",
    "    )\n",
    ")\n",
    "\n",
    "fig.show()\n"
   ]
  }
 ],
 "metadata": {
  "kernelspec": {
   "display_name": "base",
   "language": "python",
   "name": "python3"
  },
  "language_info": {
   "codemirror_mode": {
    "name": "ipython",
    "version": 3
   },
   "file_extension": ".py",
   "mimetype": "text/x-python",
   "name": "python",
   "nbconvert_exporter": "python",
   "pygments_lexer": "ipython3",
   "version": "3.13.5"
  }
 },
 "nbformat": 4,
 "nbformat_minor": 5
}
